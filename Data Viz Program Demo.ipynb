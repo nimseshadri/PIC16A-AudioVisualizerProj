{
 "cells": [
  {
   "cell_type": "markdown",
   "id": "b47b1d57-f3c5-4832-8d89-0398dec0676c",
   "metadata": {},
   "source": [
    "# Data Visualizer Project!\n",
    "## Ursula Pollack, Nimisha Seshadri, & Nellie Cox\n",
    "### What are some of the visually observable relationships between a micro business' Instagram posts? "
   ]
  },
  {
   "cell_type": "markdown",
   "id": "16d16986-3f18-431b-9461-2a7e4c1fb728",
   "metadata": {},
   "source": [
    "All that is required to intiate the tool is import the script and call the main() function."
   ]
  },
  {
   "cell_type": "code",
   "execution_count": 1,
   "id": "91bc808c",
   "metadata": {
    "scrolled": true
   },
   "outputs": [
    {
     "name": "stdout",
     "output_type": "stream",
     "text": [
      "\n",
      "    Welcome to the plotter!\n",
      "    Choose a number from this menu:\n",
      "    \n",
      "0.\tquit\n",
      "1.\tscatterplot\n",
      "2.\ttimeline\n",
      "3.\thistogram\n",
      "4.\tboxplot\n",
      "5.\tbarplot\n"
     ]
    },
    {
     "name": "stdin",
     "output_type": "stream",
     "text": [
      ">  1\n"
     ]
    },
    {
     "name": "stdout",
     "output_type": "stream",
     "text": [
      "Choose some column names (case sensitive). Enter 1-2 inputs, separate with spaces. Inputs correspond to (x,y) respectively. \n"
     ]
    },
    {
     "name": "stdin",
     "output_type": "stream",
     "text": [
      ">  likes comments shares\n"
     ]
    },
    {
     "ename": "TypeError",
     "evalue": "scatterplot() takes 3 positional arguments but 4 were given",
     "output_type": "error",
     "traceback": [
      "\u001b[0;31m---------------------------------------------------------------------------\u001b[0m",
      "\u001b[0;31mTypeError\u001b[0m                                 Traceback (most recent call last)",
      "Input \u001b[0;32mIn [1]\u001b[0m, in \u001b[0;36m<cell line: 2>\u001b[0;34m()\u001b[0m\n\u001b[1;32m      1\u001b[0m \u001b[38;5;28;01mimport\u001b[39;00m \u001b[38;5;21;01mcrochet\u001b[39;00m\n\u001b[0;32m----> 2\u001b[0m \u001b[43mcrochet\u001b[49m\u001b[38;5;241;43m.\u001b[39;49m\u001b[43mmain\u001b[49m\u001b[43m(\u001b[49m\u001b[43m)\u001b[49m\n",
      "File \u001b[0;32m~/Desktop/Final Version/crochet.py:282\u001b[0m, in \u001b[0;36mmain\u001b[0;34m()\u001b[0m\n\u001b[1;32m    279\u001b[0m     \u001b[38;5;28mprint\u001b[39m(\u001b[38;5;124m\"\u001b[39m\u001b[38;5;124mPlease enter valid input\u001b[39m\u001b[38;5;124m\"\u001b[39m) \u001b[38;5;66;03m# if not, except the mistake and reprompt\u001b[39;00m\n\u001b[1;32m    280\u001b[0m     \u001b[38;5;28;01mcontinue\u001b[39;00m\n\u001b[0;32m--> 282\u001b[0m \u001b[43mrunner\u001b[49m\u001b[43m(\u001b[49m\u001b[43mdataviz\u001b[49m\u001b[43m,\u001b[49m\u001b[43m \u001b[49m\u001b[43mfunc\u001b[49m\u001b[43m)\u001b[49m\n",
      "File \u001b[0;32m~/Desktop/Final Version/crochet.py:225\u001b[0m, in \u001b[0;36mrunner\u001b[0;34m(viz, func)\u001b[0m\n\u001b[1;32m    223\u001b[0m \u001b[38;5;28;01mtry\u001b[39;00m: \n\u001b[1;32m    224\u001b[0m     colnames \u001b[38;5;241m=\u001b[39m \u001b[38;5;28minput\u001b[39m(input_sym)\u001b[38;5;241m.\u001b[39msplit() \u001b[38;5;66;03m# first try to read each word separated with a space as a column name\u001b[39;00m\n\u001b[0;32m--> 225\u001b[0m     \u001b[43mfunc\u001b[49m\u001b[43m(\u001b[49m\u001b[38;5;241;43m*\u001b[39;49m\u001b[43mcolnames\u001b[49m\u001b[43m)\u001b[49m \u001b[38;5;66;03m# then put the column names into the method for validating\u001b[39;00m\n\u001b[1;32m    226\u001b[0m     \u001b[38;5;28;01mreturn\u001b[39;00m\n\u001b[1;32m    227\u001b[0m \u001b[38;5;28;01mexcept\u001b[39;00m \u001b[38;5;167;01mKeyError\u001b[39;00m: \u001b[38;5;66;03m# if not, except KeyError\u001b[39;00m\n",
      "File \u001b[0;32m~/Desktop/Final Version/crochet.py:98\u001b[0m, in \u001b[0;36mCrochetDataVisualizer.validate_column_dec.<locals>.ret_func\u001b[0;34m(self, *pos, **kw)\u001b[0m\n\u001b[1;32m     95\u001b[0m \u001b[38;5;129m@wraps\u001b[39m(func) \n\u001b[1;32m     96\u001b[0m \u001b[38;5;28;01mdef\u001b[39;00m \u001b[38;5;21mret_func\u001b[39m(\u001b[38;5;28mself\u001b[39m, \u001b[38;5;241m*\u001b[39mpos, \u001b[38;5;241m*\u001b[39m\u001b[38;5;241m*\u001b[39mkw): \u001b[38;5;66;03m# creates a function that can be applied to each plotting method \u001b[39;00m\n\u001b[1;32m     97\u001b[0m     \u001b[38;5;28mself\u001b[39m\u001b[38;5;241m.\u001b[39mvalidate_columns(\u001b[38;5;241m*\u001b[39mpos) \u001b[38;5;66;03m# specifies that validate_columns should only accept col names as positional args \u001b[39;00m\n\u001b[0;32m---> 98\u001b[0m     \u001b[38;5;28;01mreturn\u001b[39;00m \u001b[43mfunc\u001b[49m\u001b[43m(\u001b[49m\u001b[38;5;28;43mself\u001b[39;49m\u001b[43m,\u001b[49m\u001b[43m \u001b[49m\u001b[38;5;241;43m*\u001b[39;49m\u001b[43mpos\u001b[49m\u001b[43m,\u001b[49m\u001b[43m \u001b[49m\u001b[38;5;241;43m*\u001b[39;49m\u001b[38;5;241;43m*\u001b[39;49m\u001b[43mkw\u001b[49m\u001b[43m)\u001b[49m\n",
      "\u001b[0;31mTypeError\u001b[0m: scatterplot() takes 3 positional arguments but 4 were given"
     ]
    }
   ],
   "source": [
    "import crochet\n",
    "crochet.main()"
   ]
  }
 ],
 "metadata": {
  "kernelspec": {
   "display_name": "Python 3 (ipykernel)",
   "language": "python",
   "name": "python3"
  },
  "language_info": {
   "codemirror_mode": {
    "name": "ipython",
    "version": 3
   },
   "file_extension": ".py",
   "mimetype": "text/x-python",
   "name": "python",
   "nbconvert_exporter": "python",
   "pygments_lexer": "ipython3",
   "version": "3.9.12"
  }
 },
 "nbformat": 4,
 "nbformat_minor": 5
}
