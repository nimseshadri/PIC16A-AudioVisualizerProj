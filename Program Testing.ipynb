{
 "cells": [
  {
   "cell_type": "code",
   "execution_count": null,
   "id": "91bc808c",
   "metadata": {
    "scrolled": true
   },
   "outputs": [
    {
     "name": "stdout",
     "output_type": "stream",
     "text": [
      "\n",
      "    Welcome to the plotter!\n",
      "    Choose a number from this menu:\n",
      "    \n",
      "0.\tquit\n",
      "1.\tscatterplot\n",
      "2.\ttimeline\n",
      "3.\thistogram\n",
      "4.\tboxplot\n",
      "5.\tbarplot\n"
     ]
    },
    {
     "name": "stdin",
     "output_type": "stream",
     "text": [
      ">  1\n"
     ]
    },
    {
     "name": "stdout",
     "output_type": "stream",
     "text": [
      "Choose some column names (case sensitive). Enter 1-2 inputs, separate with spaces. Inputs correspond to (x,y) respectively. \n"
     ]
    },
    {
     "name": "stdin",
     "output_type": "stream",
     "text": [
      ">  lj\n"
     ]
    },
    {
     "name": "stdout",
     "output_type": "stream",
     "text": [
      "Please give valid column names:\n",
      "Date\n",
      "number_of_items_featured\n",
      "who's_featured\n",
      "product_type\n",
      "number_of_pictures_in_post\n",
      "likes\n",
      "comments\n",
      "saves\n",
      "shares\n",
      "impressions\n",
      "number_of_days_since_previous_post\n",
      "season\n",
      "profile_visits\n",
      "percent_weren't_following\n",
      "follows\n",
      "purpose\n",
      "general_product_types\n"
     ]
    },
    {
     "name": "stdin",
     "output_type": "stream",
     "text": [
      ">  likes comments\n"
     ]
    },
    {
     "data": {
      "image/png": "[encoded data removed]",
      "text/plain": [
       "<Figure size 432x288 with 1 Axes>"
      ]
     },
     "metadata": {
      "needs_background": "light"
     },
     "output_type": "display_data"
    },
    {
     "name": "stdout",
     "output_type": "stream",
     "text": [
      "0.\tquit\n",
      "1.\tscatterplot\n",
      "2.\ttimeline\n",
      "3.\thistogram\n",
      "4.\tboxplot\n",
      "5.\tbarplot\n"
     ]
    }
   ],
   "source": [
    "import crochet\n",
    "crochet.main()"
   ]
  }
 ],
 "metadata": {
  "kernelspec": {
   "display_name": "Python 3 (ipykernel)",
   "language": "python",
   "name": "python3"
  },
  "language_info": {
   "codemirror_mode": {
    "name": "ipython",
    "version": 3
   },
   "file_extension": ".py",
   "mimetype": "text/x-python",
   "name": "python",
   "nbconvert_exporter": "python",
   "pygments_lexer": "ipython3",
   "version": "3.9.12"
  }
 },
 "nbformat": 4,
 "nbformat_minor": 5
}
